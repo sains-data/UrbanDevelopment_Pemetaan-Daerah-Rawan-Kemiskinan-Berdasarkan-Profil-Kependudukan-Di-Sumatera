{
 "cells": [
  {
   "cell_type": "markdown",
   "id": "1670d233",
   "metadata": {},
   "source": [
    "# Poverty Mapping in Sumatra - Data Exploration\n",
    "\n",
    "**Project**: Big Data Pipeline for Poverty Mapping in Sumatra  \n",
    "**Team**: Kelompok 18  \n",
    "**Objective**: Exploratory Data Analysis of poverty data across Sumatra provinces\n",
    "\n",
    "## Table of Contents\n",
    "1. [Data Loading and Overview](#data-loading)\n",
    "2. [Data Quality Assessment](#data-quality)\n",
    "3. [Descriptive Statistics](#descriptive-stats)\n",
    "4. [Geographic Analysis](#geographic-analysis)\n",
    "5. [Poverty Indicators Analysis](#poverty-indicators)\n",
    "6. [Correlation Analysis](#correlation-analysis)\n",
    "7. [Data Visualization](#visualization)\n",
    "8. [Key Insights](#insights)"
   ]
  },
  {
   "cell_type": "markdown",
   "id": "5f183263",
   "metadata": {},
   "source": [
    "## 1. Data Loading and Setup {#data-loading}"
   ]
  },
  {
   "cell_type": "code",
   "execution_count": null,
   "id": "ceec0b67",
   "metadata": {},
   "outputs": [],
   "source": [
    "# Import required libraries\n",
    "import pandas as pd\n",
    "import numpy as np\n",
    "import matplotlib.pyplot as plt\n",
    "import seaborn as sns\n",
    "import plotly.express as px\n",
    "import plotly.graph_objects as go\n",
    "from plotly.subplots import make_subplots\n",
    "import warnings\n",
    "warnings.filterwarnings('ignore')\n",
    "\n",
    "# Set style\n",
    "plt.style.use('seaborn-v0_8')\n",
    "sns.set_palette(\"husl\")\n",
    "\n",
    "print(\"📊 Libraries imported successfully!\")"
   ]
  },
  {
   "cell_type": "code",
   "execution_count": null,
   "id": "966200ea",
   "metadata": {},
   "outputs": [],
   "source": [
    "# Load the poverty data\n",
    "data_path = '/data/Profil_Kemiskinan_Sumatera.csv'\n",
    "df = pd.read_csv(data_path)\n",
    "\n",
    "print(f\"📈 Dataset loaded successfully!\")\n",
    "print(f\"Shape: {df.shape[0]} rows, {df.shape[1]} columns\")\n",
    "print(f\"Memory usage: {df.memory_usage(deep=True).sum() / 1024**2:.2f} MB\")"
   ]
  },
  {
   "cell_type": "code",
   "execution_count": null,
   "id": "e8c649d5",
   "metadata": {},
   "outputs": [],
   "source": [
    "# Display basic information about the dataset\n",
    "print(\"📋 Dataset Overview:\")\n",
    "print(\"=\" * 50)\n",
    "df.head(10)"
   ]
  },
  {
   "cell_type": "code",
   "execution_count": null,
   "id": "cab6f932",
   "metadata": {},
   "outputs": [],
   "source": [
    "# Data types and basic info\n",
    "print(\"🔍 Data Types and Info:\")\n",
    "print(\"=\" * 30)\n",
    "df.info()\n",
    "print(\"\\n📊 Column Names:\")\n",
    "print(list(df.columns))"
   ]
  },
  {
   "cell_type": "markdown",
   "id": "80957170",
   "metadata": {},
   "source": [
    "## 2. Data Quality Assessment {#data-quality}"
   ]
  },
  {
   "cell_type": "code",
   "execution_count": null,
   "id": "16749c4f",
   "metadata": {},
   "outputs": [],
   "source": [
    "# Check for missing values\n",
    "print(\"🔍 Missing Values Analysis:\")\n",
    "print(\"=\" * 40)\n",
    "missing_data = df.isnull().sum()\n",
    "missing_percentage = (missing_data / len(df)) * 100\n",
    "\n",
    "missing_df = pd.DataFrame({\n",
    "    'Missing Count': missing_data,\n",
    "    'Percentage': missing_percentage\n",
    "})\n",
    "\n",
    "missing_df = missing_df[missing_df['Missing Count'] > 0].sort_values('Missing Count', ascending=False)\n",
    "print(missing_df)\n",
    "\n",
    "if len(missing_df) == 0:\n",
    "    print(\"✅ No missing values found!\")"
   ]
  },
  {
   "cell_type": "code",
   "execution_count": null,
   "id": "c0aced34",
   "metadata": {},
   "outputs": [],
   "source": [
    "# Check for duplicates\n",
    "duplicate_count = df.duplicated().sum()\n",
    "print(f\"🔄 Duplicate Records: {duplicate_count}\")\n",
    "\n",
    "if duplicate_count > 0:\n",
    "    print(f\"Percentage of duplicates: {(duplicate_count/len(df))*100:.2f}%\")\n",
    "else:\n",
    "    print(\"✅ No duplicate records found!\")"
   ]
  },
  {
   "cell_type": "code",
   "execution_count": null,
   "id": "65d7d35d",
   "metadata": {},
   "outputs": [],
   "source": [
    "# Unique values in categorical columns\n",
    "categorical_cols = df.select_dtypes(include=['object']).columns\n",
    "print(\"📊 Unique Values in Categorical Columns:\")\n",
    "print(\"=\" * 50)\n",
    "\n",
    "for col in categorical_cols:\n",
    "    unique_count = df[col].nunique()\n",
    "    print(f\"{col}: {unique_count} unique values\")\n",
    "    if unique_count <= 10:\n",
    "        print(f\"  Values: {list(df[col].unique())}\")\n",
    "    print()"
   ]
  },
  {
   "cell_type": "markdown",
   "id": "e97ae880",
   "metadata": {},
   "source": [
    "## 3. Descriptive Statistics {#descriptive-stats}"
   ]
  },
  {
   "cell_type": "code",
   "execution_count": null,
   "id": "429fff65",
   "metadata": {},
   "outputs": [],
   "source": [
    "# Descriptive statistics for numerical columns\n",
    "numerical_cols = df.select_dtypes(include=[np.number]).columns\n",
    "print(\"📊 Descriptive Statistics:\")\n",
    "print(\"=\" * 30)\n",
    "df[numerical_cols].describe()"
   ]
  },
  {
   "cell_type": "code",
   "execution_count": null,
   "id": "73a0bae4",
   "metadata": {},
   "outputs": [],
   "source": [
    "# Key poverty indicators summary\n",
    "poverty_indicators = ['Persentase Kemiskinan (%)', 'Tingkat Pengangguran (%)', 'Jumlah Penduduk (jiwa)']\n",
    "\n",
    "print(\"🎯 Key Poverty Indicators Summary:\")\n",
    "print(\"=\" * 40)\n",
    "\n",
    "for indicator in poverty_indicators:\n",
    "    if indicator in df.columns:\n",
    "        print(f\"\\n{indicator}:\")\n",
    "        print(f\"  Mean: {df[indicator].mean():.2f}\")\n",
    "        print(f\"  Median: {df[indicator].median():.2f}\")\n",
    "        print(f\"  Min: {df[indicator].min():.2f}\")\n",
    "        print(f\"  Max: {df[indicator].max():.2f}\")\n",
    "        print(f\"  Std: {df[indicator].std():.2f}\")"
   ]
  },
  {
   "cell_type": "markdown",
   "id": "345c0757",
   "metadata": {},
   "source": [
    "## 4. Geographic Analysis {#geographic-analysis}"
   ]
  },
  {
   "cell_type": "code",
   "execution_count": null,
   "id": "1b7bb45a",
   "metadata": {},
   "outputs": [],
   "source": [
    "# Province-level analysis\n",
    "province_stats = df.groupby('Provinsi').agg({\n",
    "    'Persentase Kemiskinan (%)': ['mean', 'min', 'max'],\n",
    "    'Tingkat Pengangguran (%)': ['mean', 'min', 'max'],\n",
    "    'Jumlah Penduduk (jiwa)': 'sum',\n",
    "    'Kategori Kemiskinan': lambda x: x.mode().iloc[0] if not x.mode().empty else 'unknown'\n",
    "}).round(2)\n",
    "\n",
    "province_stats.columns = ['_'.join(col).strip() for col in province_stats.columns]\n",
    "print(\"🗺️ Province-Level Statistics:\")\n",
    "print(\"=\" * 35)\n",
    "print(province_stats)"
   ]
  },
  {
   "cell_type": "code",
   "execution_count": null,
   "id": "f502c5ff",
   "metadata": {},
   "outputs": [],
   "source": [
    "# Create province comparison visualization\n",
    "fig, axes = plt.subplots(2, 2, figsize=(15, 12))\n",
    "fig.suptitle('Province-wise Poverty Analysis', fontsize=16, fontweight='bold')\n",
    "\n",
    "# Poverty rate by province\n",
    "province_poverty = df.groupby('Provinsi')['Persentase Kemiskinan (%)'].mean().sort_values(ascending=True)\n",
    "axes[0, 0].barh(province_poverty.index, province_poverty.values, color='coral')\n",
    "axes[0, 0].set_title('Average Poverty Rate by Province')\n",
    "axes[0, 0].set_xlabel('Poverty Rate (%)')\n",
    "\n",
    "# Unemployment rate by province\n",
    "province_unemployment = df.groupby('Provinsi')['Tingkat Pengangguran (%)'].mean().sort_values(ascending=True)\n",
    "axes[0, 1].barh(province_unemployment.index, province_unemployment.values, color='lightblue')\n",
    "axes[0, 1].set_title('Average Unemployment Rate by Province')\n",
    "axes[0, 1].set_xlabel('Unemployment Rate (%)')\n",
    "\n",
    "# Population by province\n",
    "province_population = df.groupby('Provinsi')['Jumlah Penduduk (jiwa)'].sum().sort_values(ascending=True)\n",
    "axes[1, 0].barh(province_population.index, province_population.values/1000, color='lightgreen')\n",
    "axes[1, 0].set_title('Total Population by Province')\n",
    "axes[1, 0].set_xlabel('Population (Thousands)')\n",
    "\n",
    "# Poverty category distribution\n",
    "poverty_dist = df['Kategori Kemiskinan'].value_counts()\n",
    "axes[1, 1].pie(poverty_dist.values, labels=poverty_dist.index, autopct='%1.1f%%', startangle=90)\n",
    "axes[1, 1].set_title('Poverty Category Distribution')\n",
    "\n",
    "plt.tight_layout()\n",
    "plt.show()"
   ]
  },
  {
   "cell_type": "markdown",
   "id": "94980a11",
   "metadata": {},
   "source": [
    "## 5. Poverty Indicators Analysis {#poverty-indicators}"
   ]
  },
  {
   "cell_type": "code",
   "execution_count": null,
   "id": "dd69ed23",
   "metadata": {},
   "outputs": [],
   "source": [
    "# Infrastructure access analysis\n",
    "infrastructure_cols = ['Akses Pendidikan', 'Fasilitas Kesehatan', 'Akses Air Bersih']\n",
    "\n",
    "fig, axes = plt.subplots(1, 3, figsize=(18, 5))\n",
    "fig.suptitle('Infrastructure Access Analysis', fontsize=16, fontweight='bold')\n",
    "\n",
    "for i, col in enumerate(infrastructure_cols):\n",
    "    if col in df.columns:\n",
    "        access_counts = df[col].value_counts()\n",
    "        axes[i].pie(access_counts.values, labels=access_counts.index, autopct='%1.1f%%', startangle=90)\n",
    "        axes[i].set_title(f'{col} Distribution')\n",
    "\n",
    "plt.tight_layout()\n",
    "plt.show()"
   ]
  },
  {
   "cell_type": "code",
   "execution_count": null,
   "id": "7cbf3fe8",
   "metadata": {},
   "outputs": [],
   "source": [
    "# Income group analysis\n",
    "income_analysis = df.groupby('Golongan Pengeluaran').agg({\n",
    "    'Persentase Kemiskinan (%)': 'mean',\n",
    "    'Tingkat Pengangguran (%)': 'mean',\n",
    "    'Jumlah Penduduk (jiwa)': 'sum'\n",
    "}).round(2)\n",
    "\n",
    "print(\"💰 Income Group Analysis:\")\n",
    "print(\"=\" * 30)\n",
    "print(income_analysis)"
   ]
  },
  {
   "cell_type": "code",
   "execution_count": null,
   "id": "97de7bd5",
   "metadata": {},
   "outputs": [],
   "source": [
    "# Visualize relationship between income groups and poverty\n",
    "plt.figure(figsize=(12, 8))\n",
    "\n",
    "# Create scatter plot\n",
    "for category in df['Kategori Kemiskinan'].unique():\n",
    "    subset = df[df['Kategori Kemiskinan'] == category]\n",
    "    plt.scatter(subset['Persentase Kemiskinan (%)'], subset['Tingkat Pengangguran (%)'], \n",
    "               label=category, alpha=0.6, s=60)\n",
    "\n",
    "plt.xlabel('Poverty Rate (%)')\n",
    "plt.ylabel('Unemployment Rate (%)')\n",
    "plt.title('Relationship between Poverty and Unemployment by Category')\n",
    "plt.legend()\n",
    "plt.grid(True, alpha=0.3)\n",
    "plt.show()"
   ]
  },
  {
   "cell_type": "markdown",
   "id": "8ca11111",
   "metadata": {},
   "source": [
    "## 6. Correlation Analysis {#correlation-analysis}"
   ]
  },
  {
   "cell_type": "code",
   "execution_count": null,
   "id": "51321b4b",
   "metadata": {},
   "outputs": [],
   "source": [
    "# Calculate correlation matrix for numerical variables\n",
    "corr_matrix = df[numerical_cols].corr()\n",
    "\n",
    "# Create correlation heatmap\n",
    "plt.figure(figsize=(10, 8))\n",
    "mask = np.triu(np.ones_like(corr_matrix, dtype=bool))\n",
    "sns.heatmap(corr_matrix, mask=mask, annot=True, cmap='coolwarm', vmin=-1, vmax=1,\n",
    "            center=0, square=True, fmt='.2f')\n",
    "plt.title('Correlation Matrix of Numerical Variables')\n",
    "plt.tight_layout()\n",
    "plt.show()\n",
    "\n",
    "print(\"🔗 Key Correlations:\")\n",
    "print(\"=\" * 20)\n",
    "# Find highest correlations\n",
    "corr_pairs = []\n",
    "for i in range(len(corr_matrix.columns)):\n",
    "    for j in range(i+1, len(corr_matrix.columns)):\n",
    "        corr_pairs.append((corr_matrix.columns[i], corr_matrix.columns[j], corr_matrix.iloc[i, j]))\n",
    "\n",
    "corr_pairs.sort(key=lambda x: abs(x[2]), reverse=True)\n",
    "for var1, var2, corr in corr_pairs[:5]:\n",
    "    print(f\"{var1} ↔ {var2}: {corr:.3f}\")"
   ]
  },
  {
   "cell_type": "markdown",
   "id": "f3acd1a6",
   "metadata": {},
   "source": [
    "## 7. Advanced Data Visualization {#visualization}"
   ]
  },
  {
   "cell_type": "code",
   "execution_count": null,
   "id": "d66c377c",
   "metadata": {},
   "outputs": [],
   "source": [
    "# Interactive poverty map using Plotly\n",
    "province_summary = df.groupby('Provinsi').agg({\n",
    "    'Persentase Kemiskinan (%)': 'mean',\n",
    "    'Tingkat Pengangguran (%)': 'mean',\n",
    "    'Jumlah Penduduk (jiwa)': 'sum'\n",
    "}).reset_index()\n",
    "\n",
    "fig = px.scatter(province_summary, \n",
    "                x='Persentase Kemiskinan (%)', \n",
    "                y='Tingkat Pengangguran (%)',\n",
    "                size='Jumlah Penduduk (jiwa)',\n",
    "                color='Provinsi',\n",
    "                hover_name='Provinsi',\n",
    "                title='Province Poverty vs Unemployment Analysis',\n",
    "                labels={'Persentase Kemiskinan (%)': 'Average Poverty Rate (%)',\n",
    "                       'Tingkat Pengangguran (%)': 'Average Unemployment Rate (%)'})\n",
    "\n",
    "fig.update_layout(height=600, showlegend=True)\n",
    "fig.show()"
   ]
  },
  {
   "cell_type": "code",
   "execution_count": null,
   "id": "3c7e5884",
   "metadata": {},
   "outputs": [],
   "source": [
    "# Distribution analysis\n",
    "fig, axes = plt.subplots(2, 2, figsize=(15, 10))\n",
    "fig.suptitle('Distribution Analysis of Key Variables', fontsize=16, fontweight='bold')\n",
    "\n",
    "# Poverty rate distribution\n",
    "axes[0, 0].hist(df['Persentase Kemiskinan (%)'], bins=30, alpha=0.7, color='coral', edgecolor='black')\n",
    "axes[0, 0].axvline(df['Persentase Kemiskinan (%)'].mean(), color='red', linestyle='--', label=f'Mean: {df[\"Persentase Kemiskinan (%)\"].mean():.1f}')\n",
    "axes[0, 0].set_title('Poverty Rate Distribution')\n",
    "axes[0, 0].set_xlabel('Poverty Rate (%)')\n",
    "axes[0, 0].legend()\n",
    "\n",
    "# Unemployment rate distribution\n",
    "axes[0, 1].hist(df['Tingkat Pengangguran (%)'], bins=30, alpha=0.7, color='lightblue', edgecolor='black')\n",
    "axes[0, 1].axvline(df['Tingkat Pengangguran (%)'].mean(), color='blue', linestyle='--', label=f'Mean: {df[\"Tingkat Pengangguran (%)\"].mean():.1f}')\n",
    "axes[0, 1].set_title('Unemployment Rate Distribution')\n",
    "axes[0, 1].set_xlabel('Unemployment Rate (%)')\n",
    "axes[0, 1].legend()\n",
    "\n",
    "# Population distribution (log scale)\n",
    "axes[1, 0].hist(np.log10(df['Jumlah Penduduk (jiwa)']), bins=30, alpha=0.7, color='lightgreen', edgecolor='black')\n",
    "axes[1, 0].set_title('Population Distribution (Log Scale)')\n",
    "axes[1, 0].set_xlabel('Log10(Population)')\n",
    "\n",
    "# Consumption distribution\n",
    "if 'Konsumsi (per kapita per minggu)' in df.columns:\n",
    "    axes[1, 1].hist(df['Konsumsi (per kapita per minggu)'], bins=30, alpha=0.7, color='gold', edgecolor='black')\n",
    "    axes[1, 1].set_title('Weekly Consumption Distribution')\n",
    "    axes[1, 1].set_xlabel('Consumption per capita per week')\n",
    "\n",
    "plt.tight_layout()\n",
    "plt.show()"
   ]
  },
  {
   "cell_type": "markdown",
   "id": "c2a49deb",
   "metadata": {},
   "source": [
    "## 8. Key Insights and Recommendations {#insights}"
   ]
  },
  {
   "cell_type": "code",
   "execution_count": null,
   "id": "eb2de954",
   "metadata": {},
   "outputs": [],
   "source": [
    "# Generate key insights\n",
    "print(\"🎯 KEY INSIGHTS FROM POVERTY MAPPING ANALYSIS\")\n",
    "print(\"=\" * 60)\n",
    "\n",
    "# Province with highest poverty\n",
    "highest_poverty = df.groupby('Provinsi')['Persentase Kemiskinan (%)'].mean().idxmax()\n",
    "highest_poverty_rate = df.groupby('Provinsi')['Persentase Kemiskinan (%)'].mean().max()\n",
    "print(f\"🔴 Highest Poverty Province: {highest_poverty} ({highest_poverty_rate:.1f}%)\")\n",
    "\n",
    "# Province with lowest poverty\n",
    "lowest_poverty = df.groupby('Provinsi')['Persentase Kemiskinan (%)'].mean().idxmin()\n",
    "lowest_poverty_rate = df.groupby('Provinsi')['Persentase Kemiskinan (%)'].mean().min()\n",
    "print(f\"🟢 Lowest Poverty Province: {lowest_poverty} ({lowest_poverty_rate:.1f}%)\")\n",
    "\n",
    "# Most populous area\n",
    "most_populous = df.groupby('Provinsi')['Jumlah Penduduk (jiwa)'].sum().idxmax()\n",
    "most_populous_count = df.groupby('Provinsi')['Jumlah Penduduk (jiwa)'].sum().max()\n",
    "print(f\"👥 Most Populous Province: {most_populous} ({most_populous_count:,} people)\")\n",
    "\n",
    "# Overall statistics\n",
    "total_population = df['Jumlah Penduduk (jiwa)'].sum()\n",
    "avg_poverty = df['Persentase Kemiskinan (%)'].mean()\n",
    "avg_unemployment = df['Tingkat Pengangguran (%)'].mean()\n",
    "\n",
    "print(f\"\\n📊 OVERALL STATISTICS:\")\n",
    "print(f\"   Total Population: {total_population:,} people\")\n",
    "print(f\"   Average Poverty Rate: {avg_poverty:.1f}%\")\n",
    "print(f\"   Average Unemployment Rate: {avg_unemployment:.1f}%\")\n",
    "\n",
    "# Infrastructure access summary\n",
    "print(f\"\\n🏗️ INFRASTRUCTURE ACCESS:\")\n",
    "for col in ['Akses Pendidikan', 'Fasilitas Kesehatan', 'Akses Air Bersih']:\n",
    "    if col in df.columns:\n",
    "        best_access = df[col].mode().iloc[0] if not df[col].mode().empty else 'unknown'\n",
    "        best_access_pct = (df[col] == best_access).mean() * 100\n",
    "        print(f\"   {col}: {best_access} ({best_access_pct:.1f}% of areas)\")"
   ]
  },
  {
   "cell_type": "code",
   "execution_count": null,
   "id": "e07280eb",
   "metadata": {},
   "outputs": [],
   "source": [
    "# Priority areas for intervention\n",
    "print(\"\\n🎯 PRIORITY AREAS FOR INTERVENTION:\")\n",
    "print(\"=\" * 40)\n",
    "\n",
    "# High poverty + high unemployment areas\n",
    "high_poverty_threshold = df['Persentase Kemiskinan (%)'].quantile(0.75)\n",
    "high_unemployment_threshold = df['Tingkat Pengangguran (%)'].quantile(0.75)\n",
    "\n",
    "priority_areas = df[\n",
    "    (df['Persentase Kemiskinan (%)'] > high_poverty_threshold) & \n",
    "    (df['Tingkat Pengangguran (%)'] > high_unemployment_threshold)\n",
    "]\n",
    "\n",
    "if not priority_areas.empty:\n",
    "    priority_provinces = priority_areas['Provinsi'].value_counts().head(3)\n",
    "    print(\"Top 3 provinces needing immediate intervention:\")\n",
    "    for i, (province, count) in enumerate(priority_provinces.items(), 1):\n",
    "        avg_poverty = priority_areas[priority_areas['Provinsi'] == province]['Persentase Kemiskinan (%)'].mean()\n",
    "        avg_unemployment = priority_areas[priority_areas['Provinsi'] == province]['Tingkat Pengangguran (%)'].mean()\n",
    "        print(f\"   {i}. {province}: {count} areas (Poverty: {avg_poverty:.1f}%, Unemployment: {avg_unemployment:.1f}%)\")\n",
    "else:\n",
    "    print(\"No critical areas found based on current thresholds.\")"
   ]
  },
  {
   "cell_type": "code",
   "execution_count": null,
   "id": "8c42fdf0",
   "metadata": {},
   "outputs": [],
   "source": [
    "# Data quality summary for pipeline\n",
    "print(\"\\n📋 DATA QUALITY SUMMARY FOR PIPELINE:\")\n",
    "print(\"=\" * 45)\n",
    "print(f\"✅ Total records: {len(df):,}\")\n",
    "print(f\"✅ Complete cases: {df.dropna().shape[0]:,} ({(df.dropna().shape[0]/len(df))*100:.1f}%)\")\n",
    "print(f\"✅ Provinces covered: {df['Provinsi'].nunique()}\")\n",
    "print(f\"✅ Commodities covered: {df['Komoditas'].nunique()}\")\n",
    "print(f\"✅ Income groups: {df['Golongan Pengeluaran'].nunique()}\")\n",
    "print(f\"\\n🚀 Dataset is ready for ML pipeline processing!\")"
   ]
  }
 ],
 "metadata": {
  "language_info": {
   "name": "python"
  }
 },
 "nbformat": 4,
 "nbformat_minor": 5
}
